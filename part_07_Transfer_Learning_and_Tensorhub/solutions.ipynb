{
  "nbformat": 4,
  "nbformat_minor": 0,
  "metadata": {
    "colab": {
      "name": "solutions.ipynb",
      "provenance": []
    },
    "kernelspec": {
      "name": "python3",
      "display_name": "Python 3"
    }
  },
  "cells": [
    {
      "cell_type": "code",
      "metadata": {
        "id": "RFC1dEyMcFq2",
        "colab_type": "code",
        "cellView": "both",
        "colab": {}
      },
      "source": [
        "from __future__ import absolute_import, division, print_function, unicode_literals\n",
        "\n",
        "# Install TensorFlow\n",
        "try:\n",
        "  # %tensorflow_version only exists in Colab.\n",
        "  %tensorflow_version 2.x\n",
        "except Exception:\n",
        "  pass\n",
        "\n",
        "import tensorflow as tf\n",
        "import numpy as np\n",
        "from tensorflow import keras\n",
        "from tensorflow.keras.layers import Conv2D , Dense , Flatten\n",
        "from tensorflow.keras.applications.vgg16 import VGG16\n",
        "from tensorflow.keras.utils import to_categorical\n",
        "from tensorflow.keras.preprocessing.image import ImageDataGenerator\n",
        "from tensorflow.keras.preprocessing.image import load_img\n",
        "from tensorflow.keras.applications.vgg16 import preprocess_input\n",
        "from tensorflow.keras.preprocessing.image import img_to_array\n",
        "from tensorflow.keras.applications.vgg16 import decode_predictions\n",
        "import urllib\n",
        "import os, shutil"
      ],
      "execution_count": 0,
      "outputs": []
    },
    {
      "cell_type": "markdown",
      "metadata": {
        "id": "LWcHHp8uwAvx",
        "colab_type": "text"
      },
      "source": [
        "## Excercise #1 :\n",
        "\n",
        "Using what you have learned today train a network ok dog vs cats dataset"
      ]
    },
    {
      "cell_type": "code",
      "metadata": {
        "id": "pjDio1v7wYls",
        "colab_type": "code",
        "colab": {}
      },
      "source": [
        "\"\"\" you can use pre-trained model which we used in last section and add your dense layers \"\"\"\n",
        "feature_extractor_url = \"https://tfhub.dev/google/tf2-preview/mobilenet_v2/feature_vector/2\"\n",
        "feature_extractor_layer = hub.KerasLayer(feature_extractor_url,input_shape=(224,224,3))\n",
        "feature_extractor_layer.trainable = False\n",
        "model = tf.keras.Sequential([feature_extractor_layer,tf.keras.layers.Dense(2,activation='softmax')])\n",
        "model.summary()"
      ],
      "execution_count": 0,
      "outputs": []
    },
    {
      "cell_type": "markdown",
      "metadata": {
        "id": "juN3njoQ03q3",
        "colab_type": "text"
      },
      "source": [
        "Again we download dataset and path of train folder is /content/train"
      ]
    },
    {
      "cell_type": "code",
      "metadata": {
        "colab_type": "code",
        "id": "8IjG89NF0GCt",
        "colab": {}
      },
      "source": [
        "# path to the directory where the original dataset was uncompressed\n",
        "original_dataset_dir = '/content/train/'\n",
        "\n",
        "# directory where you’ll store your smaller dataset\n",
        "base_dir = '/content/train/'\n",
        "if not os.path.isdir(base_dir):\n",
        "    os.mkdir(base_dir)\n",
        "\n",
        "train_dir = os.path.join(base_dir, 'train')\n",
        "if not os.path.isdir(train_dir):\n",
        "    os.mkdir(train_dir)\n",
        "\n",
        "# directory containing cat training images\n",
        "train_cats_dir = os.path.join(train_dir, 'cats')\n",
        "if not os.path.isdir(train_cats_dir):\n",
        "    os.mkdir(train_cats_dir)\n",
        "\n",
        "# directory containing dog training images\n",
        "train_dogs_dir = os.path.join(train_dir, 'dogs')\n",
        "if not os.path.isdir(train_dogs_dir):\n",
        "    os.mkdir(train_dogs_dir)\n",
        "\n",
        "fnames = ['cat.{}.jpg'.format(i) for i in range(500)]\n",
        "for fname in fnames:\n",
        "    src = os.path.join(original_dataset_dir, fname)\n",
        "    dst = os.path.join(train_cats_dir, fname)\n",
        "    shutil.copyfile(src, dst)\n",
        "\n",
        "\n",
        "fnames = ['dog.{}.jpg'.format(i) for i in range(1000)]\n",
        "for fname in fnames:\n",
        "    src = os.path.join(original_dataset_dir, fname)\n",
        "    dst = os.path.join(train_dogs_dir, fname)\n",
        "    shutil.copyfile(src, dst)"
      ],
      "execution_count": 0,
      "outputs": []
    },
    {
      "cell_type": "code",
      "metadata": {
        "colab_type": "code",
        "id": "mGyjVoGG0Ltc",
        "colab": {}
      },
      "source": [
        "model.compile(loss='binary_crossentropy',optimizer='adam', metrics=['acc'])\n",
        "train_datagen = ImageDataGenerator(rescale=1./255)\n",
        "train_generator = train_datagen.flow_from_directory(train_dir,target_size=(150, 150),batch_size=20,class_mode='binary')\n",
        "history = model.fit_generator(train_generator,steps_per_epoch=100,epochs=5)"
      ],
      "execution_count": 0,
      "outputs": []
    }
  ]
}